{
 "cells": [
  {
   "cell_type": "markdown",
   "id": "ef633b50-78ac-4480-8950-b828717f5c5f",
   "metadata": {
    "tags": []
   },
   "source": [
    "Sveučilište u Zagrebu  \n",
    "Fakultet elektrotehnike i računarstva  \n",
    "  \n",
    "## Multivarijatna analiza podataka - ak. god. 2022/2023  \n",
    "http://www.fer.unizg.hr/predmet/map\n",
    "\n",
    "### Prva laboratorijska vježba - Geometrija uzorka, multivarijatna normalna razdioba, statističko zaključivanje\n",
    "\n",
    "**Rok za predaju: 2. travnja 2023. u 23:59h**"
   ]
  },
  {
   "cell_type": "markdown",
   "id": "ec70b11c-ef30-4535-8aaf-a14af37aea29",
   "metadata": {
    "tags": []
   },
   "source": [
    "------------------------------\n",
    "\n",
    "### Uvod i upute za predaju\n",
    "\n",
    "Rješavanje vježbe svodi se na čitanje uputa u ćelijama s tekstom, nadopunjavanje blokova kôda (možete dodavati i dodatne blokove kôda ukoliko je potrebno) i ispisivanje rezultata (u vidu ispisa iz funkcija, tablica i grafova). Vježbu radite samostalno, a svoje rješenje branite na terminima koji su vam dodijeljeni u kalendaru. **Pritom morate razumjeti teorijske osnove implementiranih rješenja, u okviru onoga što je obrađeno na predavanjima, te morate pokazati da razumijete sav kôd koji ste napisali.** Zadatci u samoj vježbi su istraživačkog tipa - ne postoji nužno samo jedan točan način rješavanja svakog zadatka, zato potičemo studente na eksperimentiranje.\n",
    "\n",
    "Kôd možete pisati u Python ili R programskim jezicima. Ukoliko želite koristiti R, potrebno je instalirati određeni paket prema [ovim jednostavnim uputama](https://datatofish.com/r-jupyter-notebook/), i zatim odabrati R kernel u gornjem desnom kutu. **Osim ako u određenom zadatku ne piše drugačije, za implementaciju rješenja možete koristiti proizvoljne biblioteke.**\n",
    "\n",
    "**Vaše rješenje potrebno je predati u sustav _Moodle_ u obliku .ipynb datoteke naziva IME_PREZIME_JMBAG.ipynb.** Podsjećamo da bodovi iz laboratorijskih vježbi ulaze i u bodove na ispitnom roku, te da je za polaganje predmeta potrebno imati barem 50% ukupnih bodova iz laboratorijskih vježbi. **Nadoknade laboratorijskih vježbi neće biti organizirane.** Za sva dodatna pitanja svakako se javite na email adresu predmeta: _map@fer.hr_.\n",
    "\n",
    "------------------------------"
   ]
  },
  {
   "cell_type": "code",
   "execution_count": null,
   "id": "af018d9d-a7e0-4424-9207-c6855e101636",
   "metadata": {},
   "outputs": [],
   "source": [
    "# Fiksirajte \"seed\" kako bi ispravno rekonstruirali i verificali eksperimente\n",
    "# <Vaš kôd ovdje>"
   ]
  },
  {
   "cell_type": "markdown",
   "id": "d7b099f6-b009-4f4e-9bb9-8e8a8935abb0",
   "metadata": {},
   "source": [
    "### 1. Geometrija uzorka i slučajno uzorkovanje"
   ]
  },
  {
   "cell_type": "markdown",
   "id": "a14f138d-3dde-431d-be92-0eac68824ae2",
   "metadata": {
    "tags": []
   },
   "source": [
    "Neka je dan idući uzorak s $n = 4$ opservacije i $p = 3$ varijabli:\n",
    "\n",
    "$$\n",
    "\\mathbf{X} = \n",
    "\\begin{bmatrix}\n",
    "10 & 3 & 2 \\\\\n",
    "7 & 2 & 6 \\\\\n",
    "8 & 1 & 3 \\\\ \n",
    "7 & 1 & 4  \n",
    "\\end{bmatrix}\n",
    "$$"
   ]
  },
  {
   "cell_type": "markdown",
   "id": "89b82300-ad4f-437e-b6e0-d25c88eb1dd2",
   "metadata": {},
   "source": [
    "#### (a) \n",
    "\n",
    "Izračunajte i ispišite uzorački vektor srednjih vrijednosti $\\overline{\\mathbf{x}}$, uzoračku matricu kovarijance $\\mathbf{S}$ i uzoračku matricu korelacije $\\mathbf{R}$. "
   ]
  },
  {
   "cell_type": "code",
   "execution_count": null,
   "id": "559e4d68-40a7-44f7-a1ac-8db07fb9f4d3",
   "metadata": {},
   "outputs": [],
   "source": [
    "# <Vaš kôd ovdje>"
   ]
  },
  {
   "cell_type": "markdown",
   "id": "ba0eae1e-9779-4a46-8697-a8862cfa5c39",
   "metadata": {
    "tags": []
   },
   "source": [
    "Vizualizirajte graf raspršenja između prve i druge varijable, zatim prve i treće varijable. Usporedite grafove sa vrijednostima kovarijance i korelacije između tih varijabli."
   ]
  },
  {
   "cell_type": "code",
   "execution_count": null,
   "id": "98ba40c1-3e5d-40b4-a36b-31a5d4f534c4",
   "metadata": {},
   "outputs": [],
   "source": [
    "# <Vaš kôd ovdje>"
   ]
  },
  {
   "cell_type": "markdown",
   "id": "d351a448-7f48-4edc-95a9-3cf8b731fb44",
   "metadata": {
    "tags": []
   },
   "source": [
    " Izračunajte statističku udaljenost:\n",
    " \n",
    " $$\n",
    " d\\,(\\mathbf{x}_1, \\mathbf{x}_2) = ((\\mathbf{x}_1 - \\mathbf{x}_2)^\\intercal \\, \\mathbf{S}^{-1} (\\mathbf{x}_1 - \\mathbf{x}_2)\n",
    " $$\n",
    "  \n",
    " između prve i zadnje opservacije $d\\,(\\mathbf{x}_1, \\mathbf{x}_4)$. Usporedite ju s euklidskom udaljenošću."
   ]
  },
  {
   "cell_type": "code",
   "execution_count": null,
   "id": "33abea9e-22ff-4567-aa6c-b77c697c7a05",
   "metadata": {
    "tags": []
   },
   "outputs": [],
   "source": [
    "# <Vaš kôd ovdje>"
   ]
  },
  {
   "cell_type": "markdown",
   "id": "fc3c0c3a-dd1c-4c9f-bafb-43bf466e8a0e",
   "metadata": {
    "tags": []
   },
   "source": [
    "#### (b) \n",
    "Neka $\\mathbf{x}_i \\in \\mathbb{R}^{n \\times 1}$ predstavlja vektor vrijednosti varijable $i$  (iz uzorka $\\mathbf{X}$), a $\\overline{x}_i$ predstavlja uzoračku srednju vrijednost varijable $i$. Za svaku varijablu $i$, izračunajte vektor devijacija (reziduala) $\\mathbf{d}_i = \\mathbf{x}_i - \\overline{x}_i \\mathbf{1}$. Usporedite duljinu vektora devijacija sa standardnom devijacijom varijable."
   ]
  },
  {
   "cell_type": "code",
   "execution_count": null,
   "id": "386cf56a-485f-4771-911e-059b04b5d725",
   "metadata": {},
   "outputs": [],
   "source": [
    "# <Vaš kôd ovdje>"
   ]
  },
  {
   "cell_type": "markdown",
   "id": "17ff65c3-c6d9-4260-b232-558d99829225",
   "metadata": {},
   "source": [
    "Generirajte $M = 1000$ realizacija slučajnog vektora dimenzije $4 \\times 1$, gdje je svaka varijabla vektora iz diskretne uniformne razdiobe $\\mathcal{U}\\{0,10\\}$. Za svaku varijablu izračunajte standardnu devijaciju i duljinu vektora devijacija. Na grafu prikažite standardnu devijaciju kao funkciju u ovisnosti o duljini vektora devijacija."
   ]
  },
  {
   "cell_type": "code",
   "execution_count": null,
   "id": "35e12b0d-0594-4529-95ae-9d756f8d12a6",
   "metadata": {},
   "outputs": [],
   "source": [
    "# <Vaš kôd ovdje>"
   ]
  },
  {
   "cell_type": "markdown",
   "id": "ede14dc4-9495-4081-a95c-60902c0c0ded",
   "metadata": {
    "tags": []
   },
   "source": [
    "#### (c) \n",
    "Preko izračunatih vektora devijacija $\\mathbf{d}_i$ rekonstruirajte matricu kovarijance $\\mathbf{S}$, a zatim i matricu korelacije $\\mathbf{R}$. Dokažite da su rekonstruirane matrice jednake gore izračunatima."
   ]
  },
  {
   "cell_type": "code",
   "execution_count": null,
   "id": "9a96d8f5-16a1-4eed-8fbf-68fe27fefe07",
   "metadata": {},
   "outputs": [],
   "source": [
    "# <Vaš kôd ovdje>"
   ]
  },
  {
   "cell_type": "markdown",
   "id": "7dfda4fa-53c8-46b4-b3ec-152b1970f8c4",
   "metadata": {
    "tags": []
   },
   "source": [
    "#### (d) \n",
    "Izračunajte uzoračku generaliziranu varijancu $|\\mathbf{S}|$ uzorka $\\mathbf{X}$. Zatim dodajte novu varijablu koja je linearna kombinacija prve i druge varijable $\\mathbf{x}_3 = \\mathbf{x}_0 + \\mathbf{x}_1$. Izračunajte uzoračku generaliziranu varijancu na novom uzorku."
   ]
  },
  {
   "cell_type": "code",
   "execution_count": null,
   "id": "a806c5e0-0d8c-4338-bd26-89cf685f2ab5",
   "metadata": {},
   "outputs": [],
   "source": [
    "# <Vaš kôd ovdje>"
   ]
  },
  {
   "cell_type": "markdown",
   "id": "36879c07-40c8-4cd9-9761-e7b446e44279",
   "metadata": {},
   "source": [
    "Maknite zadnju opservaciju iz originalnog uzorka $\\mathbf{X}$. Izračunajte uzoračku generaliziranu varijancu i svojstvene vektore na novom uzorku. Što možete zaključiti iz ovog i prethodnog primjera?"
   ]
  },
  {
   "cell_type": "code",
   "execution_count": null,
   "id": "7ecb1e88-383f-4511-ba9c-7cca8552237e",
   "metadata": {},
   "outputs": [],
   "source": [
    "# <Vaš kôd ovdje>"
   ]
  },
  {
   "cell_type": "markdown",
   "id": "e8b20574-1317-4fca-92d8-a6d720a9d030",
   "metadata": {
    "tags": []
   },
   "source": [
    "### 2. Multivarijatna normalna razdioba"
   ]
  },
  {
   "cell_type": "markdown",
   "id": "afcbbac4-f96d-430f-8709-e7f11894dc2a",
   "metadata": {
    "tags": []
   },
   "source": [
    "Generirajte uzorak $\\mathbf{X} \\in \\mathbb{R}^{1000x2}$ iz multivarijatne normalne razdiobe određene parametrima:\n",
    "\n",
    "$$\n",
    "\\mathbf{\\mu} = [2, 3],\n",
    "\\mathbf{\\Sigma} = \n",
    "\\begin{bmatrix}\n",
    "10^2 & 6^2 \\\\\n",
    "6^2 & 6^2 \\\\\n",
    "\\end{bmatrix}\n",
    "$$"
   ]
  },
  {
   "cell_type": "code",
   "execution_count": null,
   "id": "2514c98f-64b1-4332-9bfb-d0f343b50532",
   "metadata": {},
   "outputs": [],
   "source": [
    "# <Vaš kôd ovdje>"
   ]
  },
  {
   "cell_type": "markdown",
   "id": "74bda906-420f-4023-98a4-104f5a4ad203",
   "metadata": {},
   "source": [
    "#### (a) \n",
    "\n",
    "Prikažite graf raspršenja dviju varijabli. Na istom grafu prikažite gustoću razdiobe uz pomoć elipsi za nekoliko različitih veličina $c^2$, gdje su točke $\\mathbf{x}$ sve točke koje imaju jednaku udaljenost $c^2$ od središta $\\mathbf{\\mu}$:\n",
    "\n",
    "$$\n",
    "c^2 =(\\mathbf{x} - \\mathbf{\\mu})^\\intercal \\mathbf{\\Sigma}^{-1} (\\mathbf{x} - \\mathbf{\\mu})\n",
    "$$\n",
    "Pripazite da osi grafa budu na istoj skali.\n",
    "\n",
    "**Hint**: Pogledajte `contour` funkciju u R-u, ili `plt.contour` funkciju u Pythonu (`matplotlib` biblioteka)"
   ]
  },
  {
   "cell_type": "code",
   "execution_count": null,
   "id": "b3e6bf31-7bb7-404c-a664-6ed6f97c929f",
   "metadata": {},
   "outputs": [],
   "source": [
    "# <Vaš kôd ovdje>"
   ]
  },
  {
   "cell_type": "markdown",
   "id": "93c455c3-d899-4c3b-abc1-c0cedef7e5d1",
   "metadata": {
    "tags": []
   },
   "source": [
    "#### (b)\n",
    "\n",
    "Prikažite tri grafa raspršenja i pripadajućih elipsi uzorkovanjem iz multivarijatne normalne razdiobe s istim $\\mu$ iz prošlog podzadatka i različitim matricama kovarijanci:\n",
    "\n",
    "$$\n",
    "\\mathbf{\\Sigma_1} = \n",
    "\\begin{bmatrix}\n",
    "10^2 & 6^2 \\\\\n",
    "6^2 & 10^2 \\\\\n",
    "\\end{bmatrix},\n",
    "\\mathbf{\\Sigma_2} = \n",
    "\\begin{bmatrix}\n",
    "10^2 & 7^2 \\\\\n",
    "7^2 & 6^2 \\\\\n",
    "\\end{bmatrix}\n",
    "\\mathbf{\\Sigma_3} = \n",
    "\\begin{bmatrix}\n",
    "10^2 & 8^2 \\\\\n",
    "8^2 & 6^2 \\\\\n",
    "\\end{bmatrix}\n",
    "$$\n",
    "Ukoliko nije moguće prikazati grafove raspršenja, pokažite zašto."
   ]
  },
  {
   "cell_type": "code",
   "execution_count": null,
   "id": "c1708037-5260-437f-bc2f-58587a70405b",
   "metadata": {},
   "outputs": [],
   "source": [
    "# <Vaš kôd ovdje>"
   ]
  },
  {
   "cell_type": "markdown",
   "id": "4397ae85-fe66-4920-8807-7a19a8638eda",
   "metadata": {
    "tags": []
   },
   "source": [
    "#### (c)\n",
    "\n",
    "Promatramo $\\mathbf{\\Sigma}_1$ i $\\mathbf{\\Sigma}_2$ iz prošlog podzadatka. Neka su $\\mathbf{X}_1 \\sim \\mathbf{\\mathcal{N}}(\\mathbf{\\mu, \\mathbf{\\Sigma}_1)}$ i $\\mathbf{X}_2 \\sim \\mathbf{\\mathcal{N}}(\\mathbf{\\mu, \\mathbf{\\Sigma}_2)}$ slučajni dvo-dimenzionalni vektori, i neka je $\\mathbf{X}_r$ slučajni vektor određen izrazom $\\mathbf{X}_r = \\mathbf{X}_1 - \\mathbf{X}_2$. Odredite populacijske parametre koji određuju $\\mathbf{X}_r \\sim \\mathbf{\\mathcal{N}}(\\mathbf{\\mu}_r, \\mathbf{\\Sigma}_r)$."
   ]
  },
  {
   "cell_type": "code",
   "execution_count": null,
   "id": "97be3ca0-39fa-440b-a447-ba5c96071e2d",
   "metadata": {},
   "outputs": [],
   "source": [
    "# <Vaš kôd ovdje>"
   ]
  },
  {
   "cell_type": "markdown",
   "id": "636ff669-b3f4-43b8-a83a-c38528d8c282",
   "metadata": {},
   "source": [
    "Procjenite iste te parametre uzorkovanjem $n=10^7$ opservacija iz $\\mathbf{X_1}$ i $\\mathbf{X_2}$."
   ]
  },
  {
   "cell_type": "code",
   "execution_count": null,
   "id": "bbce4482-8f96-4e89-b07e-9b82c4d56540",
   "metadata": {},
   "outputs": [],
   "source": [
    "# <Vaš kôd ovdje>"
   ]
  },
  {
   "cell_type": "markdown",
   "id": "0247ef2a-443f-4d20-93db-051901344345",
   "metadata": {},
   "source": [
    "Procjenite parametre procjenitelja $\\overline{\\mathbf{X}}_r \\sim \\mathbf{\\mathcal{N}}(\\mathbf{\\mu}_1, (1/n)\\mathbf{\\Sigma}_1)$ uzorkovanjem iz $\\mathbf{X_1}$ i $\\mathbf{X_2}$ na sljedeći način: generirajte $K = 10^5$ uzoraka, gdje svaki uzorak ima $n = 100$ opservacija."
   ]
  },
  {
   "cell_type": "code",
   "execution_count": null,
   "id": "7756a8f2-bd2e-4484-aced-f5eec403d269",
   "metadata": {},
   "outputs": [],
   "source": [
    "# <Vaš kôd ovdje>"
   ]
  },
  {
   "cell_type": "markdown",
   "id": "08fd7944-e0da-4705-98d9-7fd6a7dbe2f5",
   "metadata": {
    "tags": []
   },
   "source": [
    "### 3. Statističko zaključivanje"
   ]
  },
  {
   "cell_type": "markdown",
   "id": "df25ab21-d463-4258-be82-b5ae72ef4897",
   "metadata": {},
   "source": [
    "Generirajte uzorak $\\mathbf{X} \\in \\mathbb{R}^{1000x2}$ iz multivarijatne normalne razdiobe s parametrima:\n",
    "\n",
    "$$\n",
    "\\mathbf{\\mu} = [2, 3],\n",
    "\\mathbf{\\Sigma} = \n",
    "\\begin{bmatrix}\n",
    "10^2 & 7^2 \\\\\n",
    "7^2 & 6^2 \\\\\n",
    "\\end{bmatrix}\n",
    "$$"
   ]
  },
  {
   "cell_type": "code",
   "execution_count": null,
   "id": "4b6368bb-7027-4f92-bf32-6eccb55cf1da",
   "metadata": {},
   "outputs": [],
   "source": [
    "# <Vaš kôd ovdje>"
   ]
  },
  {
   "cell_type": "markdown",
   "id": "92ee4006-1aac-4165-a74e-dafde913edc8",
   "metadata": {},
   "source": [
    "#### (a)\n",
    "\n",
    "Implementirajte funkciju za određivanje *Hotellingove $T^2$* statistike."
   ]
  },
  {
   "cell_type": "code",
   "execution_count": null,
   "id": "f4060b6a-32c8-4ab6-a904-dbc3c2c721b0",
   "metadata": {},
   "outputs": [],
   "source": [
    "# <Vaš kôd ovdje>"
   ]
  },
  {
   "cell_type": "markdown",
   "id": "e0163353-37db-46ed-8d8a-2bd75d204e11",
   "metadata": {},
   "source": [
    "Za generirani uzorak testirajte hiptezu $H_0: \\mathbf{\\mu}= [2, 3]$ naspram $H_1: \\mathbf{\\mu} \\neq [2, 3]$ za razinu značajnosti $\\alpha = 0.05$."
   ]
  },
  {
   "cell_type": "code",
   "execution_count": null,
   "id": "eb1cfe17-1d0c-4d2b-8692-e12de2cc8b50",
   "metadata": {},
   "outputs": [],
   "source": [
    "# <Vaš kôd ovdje>"
   ]
  },
  {
   "cell_type": "markdown",
   "id": "3b2b015e-ca63-40a9-bd6b-82507e8f7d9d",
   "metadata": {},
   "source": [
    "#### (b)\n",
    "\n",
    "Za generirani uzorak, prikažite na grafu $95\\%$-tno područje pouzdanosti za $\\mathbf{\\mu}$ razdiobe."
   ]
  },
  {
   "cell_type": "code",
   "execution_count": null,
   "id": "1d7e53fd-12a5-4ed4-8456-6fe271fefb2b",
   "metadata": {},
   "outputs": [],
   "source": [
    "# <Vaš kôd ovdje>"
   ]
  },
  {
   "cell_type": "markdown",
   "id": "6c7c6493-2bc3-4922-ad5e-a646cde00e18",
   "metadata": {},
   "source": [
    "#### (c)\n",
    "\n",
    "Uz pomoć simultanih intervala pouzdanosti ($T^2$-interval), odredite $95\\%$-tno područje pouzdanosti za srednje vrijednosti varijabli, $\\mu_1$ i $\\mu_2$, te njihovu razliku $\\mu_2 - \\mu_1$."
   ]
  },
  {
   "cell_type": "code",
   "execution_count": null,
   "id": "2da6da38-1b85-433b-b7a7-bbe1894daa31",
   "metadata": {},
   "outputs": [],
   "source": [
    "# <Vaš kôd ovdje>"
   ]
  },
  {
   "cell_type": "markdown",
   "id": "5b4130e4-8671-4069-9e78-8f374687c093",
   "metadata": {},
   "source": [
    "Izračunajte univarijatni $t$-interval pouzdanosti za srednju vrijednost svake varijable, a zatim i Bonferronijevu korekciju $t$-intervala. Usporedite s rezultatima dobivenim pomoću $T^2$-intervala."
   ]
  },
  {
   "cell_type": "code",
   "execution_count": null,
   "id": "1a3a30bd-59f1-42f4-a9d6-d014e7f5b539",
   "metadata": {},
   "outputs": [],
   "source": [
    "# <Vaš kôd ovdje>"
   ]
  },
  {
   "cell_type": "markdown",
   "id": "667384e7-54b0-47a8-a46d-effe08b9150c",
   "metadata": {
    "tags": []
   },
   "source": [
    "Izračunajte $\\tilde{\\chi}^2$ interval pouzdanosti za velike uzorke za srednju vrijednost svake varijable. Usporedite dobivenu vrijednost s prethodno dobivenim vrijednostima."
   ]
  },
  {
   "cell_type": "code",
   "execution_count": null,
   "id": "5fbe4fc0-dc6d-408c-952d-854b6c2306f9",
   "metadata": {},
   "outputs": [],
   "source": [
    "# <Vaš kôd ovdje>"
   ]
  },
  {
   "cell_type": "markdown",
   "id": "b37b35be-c378-4826-8c65-35f1b4cdc33c",
   "metadata": {
    "tags": []
   },
   "source": [
    "U idućem zadatku ćete provesti ostatak naučenih metoda vezano uz statističko zaključivanje o više vektora sredine."
   ]
  },
  {
   "cell_type": "markdown",
   "id": "3366aaca-3dd6-40e5-a004-2c554f5d8b5a",
   "metadata": {},
   "source": [
    "### 4. Primjena implementiranih metoda\n",
    "\n",
    "Učitajte podatkovni skup [*iris*](https://archive.ics.uci.edu/ml/datasets/Iris) (postoji mogućnost i učitavanja unutar jezika - [Python](https://scikit-learn.org/stable/modules/generated/sklearn.datasets.load_iris.html) / [R](https://technicaljockey.com/r-programming-training/loading-iris-data-set-in-r/))."
   ]
  },
  {
   "cell_type": "code",
   "execution_count": null,
   "id": "41b288b3-d343-4171-8ac1-253045c21651",
   "metadata": {},
   "outputs": [],
   "source": [
    "# <Vaš kôd ovdje>"
   ]
  },
  {
   "cell_type": "markdown",
   "id": "9be11844-7b27-4076-9a71-f2228d513977",
   "metadata": {},
   "source": [
    "Procijenite parametre $\\mathbf{\\mu},\\mathbf{\\Sigma}$ vezane uz 4 numeričke varijable."
   ]
  },
  {
   "cell_type": "code",
   "execution_count": null,
   "id": "bbde6b06-cf63-49db-9775-0417773693c8",
   "metadata": {},
   "outputs": [],
   "source": [
    "# <Vaš kôd ovdje>"
   ]
  },
  {
   "cell_type": "markdown",
   "id": "78edaa88-afbd-44b8-a5ce-acddb2b9049c",
   "metadata": {},
   "source": [
    "Provedite analizu normalnosti 4 numeričkih varijabli. Ukoliko je potrebno, predložite koje transformacije biste radili na podatcima kako biste ojačali pretpostavke normalnosti u skupu. "
   ]
  },
  {
   "cell_type": "code",
   "execution_count": null,
   "id": "f2cb20df-ae9b-47d8-971e-2f325ebb7ee3",
   "metadata": {},
   "outputs": [],
   "source": [
    "# <Vaš kôd ovdje>"
   ]
  },
  {
   "cell_type": "markdown",
   "id": "05bf7142-6a2b-4824-8bb1-c0cc192db3bc",
   "metadata": {},
   "source": [
    "Provedite detekciju stršećih vrijednosti (vizualno/numerički).\n",
    "\n",
    "**Hint**: Poglavlje 4.7 (Johnson)"
   ]
  },
  {
   "cell_type": "code",
   "execution_count": null,
   "id": "329a99c2-4151-4656-8cfb-5be77d5f009d",
   "metadata": {},
   "outputs": [],
   "source": [
    "# <Vaš kôd ovdje>"
   ]
  },
  {
   "cell_type": "markdown",
   "id": "5eac6e45-ce54-4c36-b4f0-e361937af25e",
   "metadata": {},
   "source": [
    "Odredite $95\\%$-tno područje pouzdanosti za srednje vrijednosti varijabli.\n",
    "\n",
    "**Hint**: Prethodno implementirani $T^2$-interval/ $t$-interval/ Bonferroni"
   ]
  },
  {
   "cell_type": "code",
   "execution_count": null,
   "id": "c8e18dc3-2ac4-4e30-9d9a-9be96128c3ba",
   "metadata": {},
   "outputs": [],
   "source": [
    "# <Vaš kôd ovdje>"
   ]
  },
  {
   "cell_type": "markdown",
   "id": "7f3ba005-1613-4264-a3fb-1d23fcb778f4",
   "metadata": {},
   "source": [
    "Razmatramo *species: virginica* populaciju. Razlikuju li se  *sepal* __length__ i __width__ varijable od *petal* __length__ i __width__ varijabli (duljina i širina sepala i papučica - dijelovi reproduktivnog sustava cvijeta)?\n",
    "\n",
    "**Hint**: Metoda uparenih usporedbi"
   ]
  },
  {
   "cell_type": "code",
   "execution_count": null,
   "id": "dde1d36a-ab6a-4863-809e-5b92b2cfda47",
   "metadata": {},
   "outputs": [],
   "source": [
    "# <Vaš kôd ovdje>"
   ]
  },
  {
   "cell_type": "markdown",
   "id": "8f8bdbd4-45df-43f4-bb0b-56df5c0105ba",
   "metadata": {},
   "source": [
    "Usporedite vektore srednjih vrijednosti za sve varijable između svih *species* populacija. Postoji li statistički značajna razlika?\n",
    "\n",
    "**Hint**: MANOVA"
   ]
  },
  {
   "cell_type": "code",
   "execution_count": null,
   "id": "55d32f61-a1a4-4738-b228-044ebf273a12",
   "metadata": {},
   "outputs": [],
   "source": [
    "# <Vaš kôd ovdje>"
   ]
  },
  {
   "cell_type": "markdown",
   "id": "d8c00415-017e-4390-9826-face11570d2c",
   "metadata": {},
   "source": [
    "**Bonus**: Postoji li dodatno istraživačko pitanje koje želite testirati?"
   ]
  },
  {
   "cell_type": "code",
   "execution_count": null,
   "id": "b63ac164-0590-4eaf-b2f7-8137ec0c32b4",
   "metadata": {},
   "outputs": [],
   "source": [
    "# <Vaš kôd ovdje>"
   ]
  }
 ],
 "metadata": {
  "kernelspec": {
   "display_name": "Python 3 (ipykernel)",
   "language": "python",
   "name": "python3"
  },
  "language_info": {
   "codemirror_mode": {
    "name": "ipython",
    "version": 3
   },
   "file_extension": ".py",
   "mimetype": "text/x-python",
   "name": "python",
   "nbconvert_exporter": "python",
   "pygments_lexer": "ipython3",
   "version": "3.8.16"
  }
 },
 "nbformat": 4,
 "nbformat_minor": 5
}
