{
 "cells": [
  {
   "cell_type": "markdown",
   "id": "ef633b50-78ac-4480-8950-b828717f5c5f",
   "metadata": {
    "id": "ef633b50-78ac-4480-8950-b828717f5c5f",
    "tags": []
   },
   "source": [
    "Sveučilište u Zagrebu  \n",
    "Fakultet elektrotehnike i računarstva  \n",
    "  \n",
    "## Multivarijatna analiza podataka - ak. god. 2022/2023  \n",
    "http://www.fer.unizg.hr/predmet/map\n",
    "\n",
    "### Druga laboratorijska vježba - Analiza glavnih komponenti, Faktorska analiza, Multivarijatna linearna regresija, Kanonička korelacijska analiza\n",
    "\n",
    "**Rok za predaju: 7. svibnja 2023. u 23:59h**"
   ]
  },
  {
   "cell_type": "markdown",
   "id": "ec70b11c-ef30-4535-8aaf-a14af37aea29",
   "metadata": {
    "id": "ec70b11c-ef30-4535-8aaf-a14af37aea29",
    "tags": []
   },
   "source": [
    "------------------------------\n",
    "\n",
    "### Uvod i upute za predaju\n",
    "\n",
    "Rješavanje vježbe svodi se na čitanje uputa u ćelijama s tekstom, nadopunjavanje blokova kôda (možete dodavati i dodatne blokove kôda ukoliko je potrebno) i ispisivanje rezultata (u vidu ispisa iz funkcija, tablica i grafova). Vježbu radite samostalno, a svoje rješenje branite na terminima koji su vam dodijeljeni u kalendaru. **Pritom morate razumjeti teorijske osnove implementiranih rješenja, u okviru onoga što je obrađeno na predavanjima, te morate pokazati da razumijete sav kôd koji ste napisali.** Zadatci u samoj vježbi su istraživačkog tipa - ne postoji nužno samo jedan točan način rješavanja svakog zadatka, zato potičemo studente na eksperimentiranje.\n",
    "\n",
    "Kôd možete pisati u Python ili R programskim jezicima. Ukoliko želite koristiti R, potrebno je instalirati određeni paket prema [ovim jednostavnim uputama](https://datatofish.com/r-jupyter-notebook/), i zatim odabrati R kernel u gornjem desnom kutu. **Osim ako u određenom zadatku ne piše drugačije, za implementaciju rješenja možete koristiti proizvoljne biblioteke.**\n",
    "\n",
    "**Vaše rješenje potrebno je predati u sustav _Moodle_ u obliku .ipynb datoteke naziva IME_PREZIME_JMBAG.ipynb.** Podsjećamo da bodovi iz laboratorijskih vježbi ulaze i u bodove na ispitnom roku, te da je za polaganje predmeta potrebno imati barem 50% ukupnih bodova iz laboratorijskih vježbi. **Nadoknade laboratorijskih vježbi neće biti organizirane.** Za sva dodatna pitanja svakako se javite na email adresu predmeta: _map@fer.hr_.\n",
    "\n",
    "------------------------------"
   ]
  },
  {
   "cell_type": "code",
   "execution_count": null,
   "id": "af018d9d-a7e0-4424-9207-c6855e101636",
   "metadata": {
    "id": "af018d9d-a7e0-4424-9207-c6855e101636"
   },
   "outputs": [],
   "source": [
    "# Učitajte sve potrebne biblioteke\n",
    "# <Vaš kôd ovdje>"
   ]
  },
  {
   "cell_type": "markdown",
   "id": "8238af07",
   "metadata": {
    "id": "8238af07"
   },
   "source": [
    "### 0. Podatkovni skup"
   ]
  },
  {
   "cell_type": "markdown",
   "id": "98227b74",
   "metadata": {
    "id": "98227b74"
   },
   "source": [
    "U laboratorijskoj vježbi razmatra se dinamika cijena vrijednosnica na financijskim tržištima. Dane su povijesne tjedne cijene ETF-ova (eng. exchange traded fund) koji prate određene dioničke, obvezničke ili druge indekse. Konkretno, radi se o sljedeća 22 fonda:\n",
    "\n",
    "- `AGG` (iShares Core U.S. Aggregate Bond ETF) - obveznice s američkog tržišta,\n",
    "- `IEF` (iShares 7-10 Year Treasury Bond ETF) - srednjeročne državne obveznice,\n",
    "- `LQD` (iShares iBoxx $ Investment Grade Corporate Bond ETF) - korporativne obveznice,\n",
    "- `SHY` (iShares 1-3 Year Treasury Bond ETF) - kratkoročne državne obveznice,\n",
    "- `TIP` (iShares TIPS Bond ETF) - državne obveznice zaštićene od inflacije,\n",
    "- `TLT` (iShares 20+ Year Treasury Bond ETF) - dugoročne državne obveznice,\n",
    "- `DBC` (Invesco DB Commodity Index Tracking Fund) - sirovine i roba,\n",
    "- `GLD` (SPDR Gold Trust) - zlato,\n",
    "- `USO` (United States Oil Fund) - nafta,\n",
    "- `IJH` (iShares Core S&P Mid-Cap ETF) - dionice tvrtki s američkog tržišta,\n",
    "- `IWM` (iShares Russell 2000 ETF) - dionice američkih tvrtki s malim kapitalom,\n",
    "- `SPY` (SPDR S&P 500 ETF Trust) - dionice tvrtki s američkog tržišta,\n",
    "- `VTV` (Vanguard Value ETF) - dionice tvrtki s američkog tržišta,\n",
    "- `XLB` (Materials Select Sector SPDR Fund) - dionice tvrtki za materijale,\n",
    "- `XLE` (Energy Select Sector SPDR Fund) - dionice tvrtki energetskog sektora,\n",
    "- `XLF` (Financial Select Sector SPDR Fund) - dionice tvrtki financijskog sektora,\n",
    "- `XLI` (Industrial Select Sector SPDR Fund) - dionice tvrtki industrijskog sektora,\n",
    "- `XLK` (Technology Select Sector SPDR Fund) - dionice tvrtki iz tehnološkog sektora,\n",
    "- `XLP` (Consumer Staples Select Sector SPDR Fund) - dionice tvrki za necikličku potrošačku robu,\n",
    "- `XLU` (Utilities Select Sector SPDR Fund) - dionice tvrtki komunalnih djelatnosti,\n",
    "- `XLV` (Health Care Select Sector SPDR Fund) - dionice tvrtki iz zdravstvenog sektora,\n",
    "- `XLY` (Consumer Discretionary Select Sector SPDR Fund) - dionice tvrtki za cikličku potršačku robu,\n",
    "- `IYR` (iShares U.S. Real Estate ETF) - dionice tvrtki iz područja nekretnina,\n",
    "- `VNQ` (Vanguard Real Estate Index Fund) - dionice tvrtki iz područja nekretnina.\n",
    "\n",
    "Pri modeliranju zajedničkog kretanja i rizika vrijednosnica, najčešće se koriste povrati: $R(t) = \\frac{S(t)-S(t-1)}{S(t-1)},$ gdje je $S(t)$ cijena vrijednosnice u trenutku (tjednu) $t$. "
   ]
  },
  {
   "cell_type": "markdown",
   "id": "897c34f7",
   "metadata": {
    "id": "897c34f7"
   },
   "source": [
    "#### (a)\n",
    "Podaci se nalaze u datoteci \"ETFprices.csv\". Učitajte ih, provjerite ispravnost, izračunajte tjedne povrate te vizualizirajte matricu korelacije povrata. U ostatku laboratorijske vježbe također koristite povrate, a ne cijene. "
   ]
  },
  {
   "cell_type": "code",
   "execution_count": null,
   "id": "33f3507f",
   "metadata": {
    "id": "33f3507f"
   },
   "outputs": [],
   "source": [
    "# <Vaš kôd ovdje>"
   ]
  },
  {
   "cell_type": "markdown",
   "id": "d7b099f6-b009-4f4e-9bb9-8e8a8935abb0",
   "metadata": {
    "id": "d7b099f6-b009-4f4e-9bb9-8e8a8935abb0"
   },
   "source": [
    "### 1. Analiza glavnih komponenti"
   ]
  },
  {
   "cell_type": "markdown",
   "id": "89b82300-ad4f-437e-b6e0-d25c88eb1dd2",
   "metadata": {
    "id": "89b82300-ad4f-437e-b6e0-d25c88eb1dd2"
   },
   "source": [
    "#### (a) \n",
    "Izračunajte glavne komponente matrice korelacije i izračunajte koliki udio varijance objašnjavaju. Odredite broj glavnih komponenti. "
   ]
  },
  {
   "cell_type": "code",
   "execution_count": null,
   "id": "559e4d68-40a7-44f7-a1ac-8db07fb9f4d3",
   "metadata": {
    "id": "559e4d68-40a7-44f7-a1ac-8db07fb9f4d3"
   },
   "outputs": [],
   "source": [
    "# <Vaš kôd ovdje>"
   ]
  },
  {
   "cell_type": "markdown",
   "id": "ba0eae1e-9779-4a46-8697-a8862cfa5c39",
   "metadata": {
    "id": "ba0eae1e-9779-4a46-8697-a8862cfa5c39",
    "tags": []
   },
   "source": [
    "#### (b)\n",
    "Komponente PCA će u financijama često opisivati neke zajedničke faktore u podatcima, što je moguće analizirati promatranjem pojedinih elemenata svojstvenih vektora. Ako je neki element određenog svojstvenog vektora velik po magnitudi (pozitivan ili negativan), to znači da ta komponenta opisuje odgovarajuću vrijednosnicu i objašnjava njenu varijancu, za razliku od slučaja kad je element blizu 0, što znači da razmatrana vrijednosnica ne ovisi previše o toj komponenti. Grafički prikažite i usporedite koeficijente prvih nekoliko komponenti."
   ]
  },
  {
   "cell_type": "code",
   "execution_count": null,
   "id": "98ba40c1-3e5d-40b4-a36b-31a5d4f534c4",
   "metadata": {
    "id": "98ba40c1-3e5d-40b4-a36b-31a5d4f534c4"
   },
   "outputs": [],
   "source": [
    "# <Vaš kôd ovdje>"
   ]
  },
  {
   "cell_type": "markdown",
   "id": "058b26db",
   "metadata": {
    "id": "058b26db"
   },
   "source": [
    "#### (c) \n",
    "Prikažite graf raspršenja prve dvije glavne komponente i proučite možete li primijetiti neke zanimljive grupe. \n"
   ]
  },
  {
   "cell_type": "code",
   "execution_count": null,
   "id": "db49dad3",
   "metadata": {
    "id": "db49dad3"
   },
   "outputs": [],
   "source": [
    "# <Vaš kôd ovdje>"
   ]
  },
  {
   "cell_type": "markdown",
   "id": "35912676",
   "metadata": {
    "id": "35912676"
   },
   "source": [
    "#### (d)\n",
    "U primjeni PCA i svojstvenoj dekompoziciji kovarijance u financijama, svojstveni vektori se često zovu i tzv. svojstveni portfelji. Općenito, portfelj je vektor $w = [w_1,...,w_N]$ u kojem svaki element predstavlja težinu ili udio kapitala u određenoj vrijednosnici. Često je dobro pomnožiti njihove težine s predznakom njihove sume - na taj način zapravo samo \"okrećemo\" predznak svojstvenog vektora tako da mu je suma pozitivna (konačni PCA rastav je i dalje isti ako svojstveni vektor pomnožimo s -1). Također, dobro je i skalirati svojstvene portfelje sa sumom njihovih apsolutnih vrijednosti:\n",
    "$\\tilde{w}_i = \\frac{w_i}{\\sum_j^N{\\vert w_j \\vert}}$.\n",
    "Na taj način se osigurava da visoke magnitude pojedinih elemenata ne uzrokuju velike razlike u volatilnostima svojstvenih portfelja.\n",
    "Ukoliko znamo povrate $R\\in\\mathbb{R}^{T\\times N}$ (gdje je $R_i\\in\\mathbb{R}^{T}$ vektor povrata za vrijednosnicu $i$) za $N$ vrijednosnica u nekom vremenskom periodu od $T$ dana, povrate portfelja $w$ u tom istom periodu možemo izračunati kao:\n",
    "$R_p = \\sum{R_i w_i} = R\\cdot w$.\n",
    "Izračunajte skalirane svojstvene portfelje $\\tilde{w}$ koji proizlaze iz prve dvije glavne komponente dobivene iz matrice kovarijance $\\Sigma$. Za ta dva svojstvena portfelja izračunajte povijesne povrate kroz razmatrani period. Grafički prikažite vremensko kretanje njihovih vrijednosti (njihove povrate \"vratite\" natrag u cijene, s tim da početna cijena bude jednak za oba portfelja, npr. 100). Također izračunajte anualizirane srednje vrijednosti i volatilnosti svojstvenih portfelja."
   ]
  },
  {
   "cell_type": "code",
   "execution_count": null,
   "id": "ff562e3c",
   "metadata": {
    "id": "ff562e3c"
   },
   "outputs": [],
   "source": [
    "# <Vaš kôd ovdje>"
   ]
  },
  {
   "cell_type": "markdown",
   "id": "c03ea840",
   "metadata": {
    "id": "c03ea840"
   },
   "source": [
    "### 2. Faktorska analiza"
   ]
  },
  {
   "cell_type": "markdown",
   "id": "d3639977",
   "metadata": {
    "id": "d3639977"
   },
   "source": [
    "#### (a)\n",
    "Na danim podacima odredite broj faktora te provedite faktorsku analizu pomoću dvije različite metode. Procijenite parametre modela te ih usporedite. Koja procjena Vam se čini bolja? Što možete zaključiti iz vrijednosti faktora? Pronađite procjenu vrijednosti faktora koja daje najbolju interpretabilnost."
   ]
  },
  {
   "cell_type": "code",
   "execution_count": null,
   "id": "c57b744d",
   "metadata": {
    "id": "c57b744d"
   },
   "outputs": [],
   "source": [
    "# <Vaš kôd ovdje>"
   ]
  },
  {
   "cell_type": "markdown",
   "id": "799db957",
   "metadata": {
    "id": "799db957"
   },
   "source": [
    "#### (b)\n",
    "Izračunajte specifične varijance faktora za model s dva faktora i model s tri faktora. Pomoću stupčastog dijagrama prikažite i usporedite dobivene vrijednosti. "
   ]
  },
  {
   "cell_type": "code",
   "execution_count": null,
   "id": "233d0fef",
   "metadata": {
    "id": "233d0fef"
   },
   "outputs": [],
   "source": [
    "# <Vaš kôd ovdje>"
   ]
  },
  {
   "cell_type": "markdown",
   "id": "02996cfc",
   "metadata": {
    "id": "02996cfc"
   },
   "source": [
    "### 3. Multivarijatna linearna regresija"
   ]
  },
  {
   "cell_type": "markdown",
   "id": "f114c297",
   "metadata": {
    "id": "f114c297"
   },
   "source": [
    "#### (a)\n",
    "Provedite 3 univarijatne linearne regresije koristeći povrate ETF-ova `AGG`, `DBC` i `SPY` kao zavisne varijable. Svaku regresiju provedite sa svim preostalim povratima ETF-ova kao nezavnim varijablama. Za svaku regresiju ispišite koeficijente te njihovu signifikantnost."
   ]
  },
  {
   "cell_type": "code",
   "execution_count": null,
   "id": "fae746ed",
   "metadata": {
    "id": "fae746ed"
   },
   "outputs": [],
   "source": [
    "# <Vaš kôd ovdje>"
   ]
  },
  {
   "cell_type": "markdown",
   "id": "adcd6725",
   "metadata": {
    "id": "adcd6725"
   },
   "source": [
    "#### (b)\n",
    "Provedite multivarijatnu linearnu regresiju koristeći ETF-ove `AGG`, `DBC` i `SPY` kao zavisne varijable. Za nezavisne varijable uzmite sve preostale ETF-ove. Ispišite signifikantnost koeficijenata multivarijatne regresije. "
   ]
  },
  {
   "cell_type": "code",
   "execution_count": null,
   "id": "274e0f58",
   "metadata": {
    "id": "274e0f58"
   },
   "outputs": [],
   "source": [
    "# <Vaš kôd ovdje>"
   ]
  },
  {
   "cell_type": "markdown",
   "id": "8bf2e41a",
   "metadata": {
    "id": "8bf2e41a"
   },
   "source": [
    "#### (c)\n",
    "Ponovite proceduru iz (b), ali zadržite samo varijable s koeficijentima na 0.05 razini signifikantnosti. Usporedite ovaj model s modelom iz (b).  Je li izbacivanje varijabli dovelo do pogoršanja modela?\n"
   ]
  },
  {
   "cell_type": "code",
   "execution_count": null,
   "id": "c4c7a4ec",
   "metadata": {
    "id": "c4c7a4ec"
   },
   "outputs": [],
   "source": [
    "# <Vaš kôd ovdje>"
   ]
  },
  {
   "cell_type": "markdown",
   "id": "8c415194",
   "metadata": {
    "id": "8c415194"
   },
   "source": [
    "### 4. Kanonička korelacijska analiza"
   ]
  },
  {
   "cell_type": "markdown",
   "id": "e370289d",
   "metadata": {
    "id": "e370289d"
   },
   "source": [
    "Za potrebe ovog zadatka standardizirajte podatke i podijelite skup ETF-ova na dva skupa tako da: \n",
    "- prvi skup sadrži: `AGG`, `LQD`, `TIP` ,`DBC`, `USO`,`IWM`, `VTV`, `XLE`, `XLI`, `XLP`, `XLV`, `IYR`,  \n",
    "- drugi skup sadrži: `IEF`, `LQD`, `SHY`, `TLT`, `GLD`, `IJH`,`SPY`, `XLB`, `XLF`, `XLK`, `XLU`,`XLY`, `VNQ`.\n"
   ]
  },
  {
   "cell_type": "code",
   "execution_count": null,
   "id": "8e8a686a",
   "metadata": {
    "id": "8e8a686a"
   },
   "outputs": [],
   "source": [
    "# <Vaš kôd ovdje>"
   ]
  },
  {
   "cell_type": "markdown",
   "id": "2f597c0b",
   "metadata": {
    "id": "2f597c0b"
   },
   "source": [
    "#### (a) \n",
    "Provedite kanoničku korelacijsku analizu s maksimalnim brojem parova kanoničkih varijabli. Koliko kanoničkih parova je statistički značajno? "
   ]
  },
  {
   "cell_type": "code",
   "execution_count": null,
   "id": "aaba51ec",
   "metadata": {
    "id": "aaba51ec"
   },
   "outputs": [],
   "source": [
    "# <Vaš kôd ovdje>"
   ]
  },
  {
   "cell_type": "markdown",
   "id": "5ef00486",
   "metadata": {
    "id": "5ef00486"
   },
   "source": [
    "#### (b)\n",
    "Pomoću *scree plota* prikažite korelacije dobivenih parova kanoničkih varijabli. "
   ]
  },
  {
   "cell_type": "code",
   "execution_count": null,
   "id": "0d2e2497",
   "metadata": {
    "id": "0d2e2497"
   },
   "outputs": [],
   "source": [
    "# <Vaš kôd ovdje>"
   ]
  },
  {
   "cell_type": "markdown",
   "id": "67e45518",
   "metadata": {
    "id": "67e45518"
   },
   "source": [
    "#### (c)\n",
    "Promotrite korelacije između kanoničkih varijabli i originalnih varijabli kako bi interpretirali kanoničke varijable u terminima originalnih. Za svaki skup posebno pomoću stupčastog dijagrama prikažite korelacije originalnih varijabli i prva tri para kanoničkih varijabli (slično kao u zadatku 1.(b)). \n",
    "\n",
    "**Hint**: Interpretacija populacijskih kanoničkih varijabli (Predavanje 7)"
   ]
  },
  {
   "cell_type": "code",
   "execution_count": null,
   "id": "8cb8bdb4",
   "metadata": {
    "id": "8cb8bdb4"
   },
   "outputs": [],
   "source": [
    "# <Vaš kôd ovdje>"
   ]
  }
 ],
 "metadata": {
  "colab": {
   "provenance": []
  },
  "kernelspec": {
   "display_name": "Python 3 (ipykernel)",
   "language": "python",
   "name": "python3"
  },
  "language_info": {
   "codemirror_mode": {
    "name": "ipython",
    "version": 3
   },
   "file_extension": ".py",
   "mimetype": "text/x-python",
   "name": "python",
   "nbconvert_exporter": "python",
   "pygments_lexer": "ipython3",
   "version": "3.11.3"
  },
  "vscode": {
   "interpreter": {
    "hash": "ceb9e34478ed1f2dc3536f94e8974f85a474f49e07bbeeabe71abf6c1480df1a"
   }
  }
 },
 "nbformat": 4,
 "nbformat_minor": 5
}
