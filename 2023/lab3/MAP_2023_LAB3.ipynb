{
 "cells": [
  {
   "cell_type": "markdown",
   "id": "2aab54b3-3126-4d2f-86a0-06375d805a59",
   "metadata": {},
   "source": [
    "<div hidden>\n",
    "    $\\newcommand{\\q}{\\left}$\n",
    "    $\\newcommand{\\w}{\\right}$\n",
    "    $\\newcommand{\\m}{\\middle}$\n",
    "    $\\newcommand{\\e}{\\boldsymbol}$\n",
    "    $\\newcommand{\\cb}{\\mspace{3mu}\\m\\vert\\mspace{3mu}}$\n",
    "</div>\n",
    "\n",
    "<center>\n",
    "    Sveučilište u Zagrebu<br>\n",
    "    Fakultet elektrotehnike i računarstva<br>\n",
    "    <a href=\"http://www.fer.unizg.hr/predmet/map\">Multivarijatna analiza podataka</a><br>\n",
    "    Ak. god. 2022./23.    \n",
    "</center>\n",
    "\n",
    "<h1>\n",
    "    Laboratorijska vježba 3: <br> Diskriminantna analiza, metode grupiranja i udaljenosti, analiza korespondencije\n",
    "</h1>\n",
    "\n",
    "---"
   ]
  },
  {
   "cell_type": "markdown",
   "id": "01917a28-5d80-4ce8-af8d-f5d189233d1b",
   "metadata": {},
   "source": [
    "## Uvod i upute za predaju\n",
    "\n",
    "Rješavanje vježbe svodi se na čitanje uputa u ćelijama s tekstom, nadopunjavanje blokova kôda (možete dodavati i dodatne blokove kôda ukoliko je potrebno) i ispisivanje rezultata (u vidu ispisa iz funkcija, tablica i grafova). Vježbu radite samostalno, a svoje rješenje branite na terminima koji su vam dodijeljeni u kalendaru. **Pritom morate razumjeti teorijske osnove implementiranih rješenja, u okviru onoga što je obrađeno na predavanjima, te morate pokazati da razumijete sav kôd koji ste napisali.** Zadatci u samoj vježbi su istraživačkog tipa  &mdash; ne postoji nužno samo jedan točan način rješavanja svakog zadatka, zato potičemo studente na eksperimentiranje.\n",
    "\n",
    "Kôd možete pisati u Python ili R programskim jezicima. Ukoliko želite koristiti R, potrebno je instalirati određeni paket prema [ovim jednostavnim uputama](https://datatofish.com/r-jupyter-notebook/), i zatim odabrati R kernel u gornjem desnom kutu. **Osim ako u određenom zadatku ne piše drugačije, za implementaciju rješenja možete koristiti proizvoljne biblioteke.**\n",
    "\n",
    "**Vaše rješenje potrebno je predati u sustav _Moodle_ u obliku .ipynb datoteke naziva IME_PREZIME_JMBAG.ipynb.** Podsjećamo da bodovi iz laboratorijskih vježbi ulaze i u bodove na ispitnom roku, te da je za polaganje predmeta potrebno imati barem 50% ukupnih bodova iz laboratorijskih vježbi. **Nadoknade laboratorijskih vježbi neće biti organizirane.** Za sva dodatna pitanja svakako se javite na email adresu predmeta: _map@fer.hr_.\n",
    "\n",
    "---"
   ]
  },
  {
   "cell_type": "markdown",
   "id": "95249e3c-10a2-4904-8b8b-936b24340eca",
   "metadata": {},
   "source": [
    "## Podatkovni skup\n",
    "\n",
    "U ovoj laboratorijskoj vježbi analizirat ćemo skup podataka s oko 1500 najpoznatijih klasičnih skladbi prema glasovima korisnika stranice [classicalmusiconly.com](https://classicalmusiconly.com/).\n",
    "Opis varijabli dan je u tablici u nastavku:\n",
    "\n",
    "<table>\n",
    "    <thead>\n",
    "        <tr>\n",
    "            <th>Naziv stupca</th>\n",
    "            <th>Opis</th>\n",
    "        </tr>\n",
    "    </thead>\n",
    "    <tbody>\n",
    "        <tr>\n",
    "            <td><code>title</code></td>\n",
    "            <td>naziv skladbe</td>\n",
    "        </tr>\n",
    "        <tr>\n",
    "            <td><code>category</code></td>\n",
    "            <td>kategorija kojoj skladba pripada<br>(sonata, simfonija, itd.)</td>\n",
    "        </tr>\n",
    "        <tr>\n",
    "            <td><code>composer</code></td>\n",
    "            <td>ime skladatelja</td>\n",
    "        </tr>\n",
    "        <tr>\n",
    "            <td><code>year</code></td>\n",
    "            <td>godina kada je skladba napisana</td>\n",
    "        <tr>\n",
    "            <td><code>epoch</code></td>\n",
    "            <td>stilsko razdoblje</td>\n",
    "        </tr>\n",
    "        <tr>\n",
    "            <td><code>country</code></td>\n",
    "            <td>država rođenja skladatelja</td>\n",
    "        <tr>\n",
    "            <td><code>stars</code></td>\n",
    "            <td>broj glasova <br> (koliko korisnika je označilo skladbu kao favorit))</td>\n",
    "        </tr>\n",
    "    </tbody>\n",
    "</table>\n",
    "\n",
    "---\n",
    "\n",
    "Učitajte datoteku `classical_data.csv` i proučite podatke.\n",
    "Varijable `category`, `composer`, `epoch` i `country` treba tretirati kao da se radi o kategorijskim varijablama.\n",
    "Ispišite nekoliko redaka iz tablice."
   ]
  },
  {
   "cell_type": "code",
   "execution_count": null,
   "id": "57954526-84d7-4cb7-bedc-2cc594965c3f",
   "metadata": {},
   "outputs": [],
   "source": []
  },
  {
   "cell_type": "markdown",
   "id": "68b4d836",
   "metadata": {},
   "source": [
    "---"
   ]
  },
  {
   "cell_type": "markdown",
   "id": "767142e4",
   "metadata": {},
   "source": [
    "## 1. Grupiranje\n",
    "\n",
    "U ovom zadatku ćemo grupirati kategorije skladbi na temelju njihove sličnosti.\n",
    "\n",
    "<b>a)</b> Izračunajte i prikažite <b>kontingencijsku tablicu</b> $\\mathbf C$ između <b>skladatelja</b> i <b>kategorija.</b> Element kontingencijske tablice $C_{i, j}$ odgovara ukupnom broju skladbi u $j$-toj kategoriji koje je napisao $i$-ti skladatelj."
   ]
  },
  {
   "cell_type": "code",
   "execution_count": null,
   "id": "53f41d80",
   "metadata": {},
   "outputs": [],
   "source": []
  },
  {
   "cell_type": "markdown",
   "id": "73498163",
   "metadata": {},
   "source": [
    "---\n",
    "\n",
    "Prije nego što nastavimo s grupiranjem, željeli bismo smanjiti broj kategorija koje ćemo uzeti u obzir. <br>\n",
    "<b>b)</b> Grafički prikažite ukupan broj skladbi po pojedinoj kategoriji, <i>sortirano</i> uzlazno.\n",
    "Zatim proizvoljno odredite prag, te izbacite sve kategorije (stupce kontingencijske tablice) koje po Vašem kriteriju sadrže premalo skladbi.\n",
    "Ako nakon izbacivanja u tablici preostanu skladatelji koji imaju ukupno 0 skladbi, izbacite i takve retke. <br>\n",
    "<b>Prikažite dobivenu tablicu i graf temeljem kojega ste odredili prag.</b>"
   ]
  },
  {
   "cell_type": "code",
   "execution_count": null,
   "id": "3a4f4b6d",
   "metadata": {},
   "outputs": [],
   "source": []
  },
  {
   "cell_type": "markdown",
   "id": "1dae5e40",
   "metadata": {},
   "source": [
    "---\n",
    "\n",
    "<b>c)</b> Provedite hijerarhijsko aglomerativno grupiranje (engl. <i>hierarchical agglomerative clustering</i>) nad <b>kategorijama.</b> Kao mjeru udaljenosti među kategorijama koristite <b>kosinusnu udaljenost</b> među stupcima kontingencijske tablice koju ste prethodno izračunali. Isprobajte različite metode za <b>spajanje grupa</b> (engl. <i>linkage</i>), te:\n",
    "<ol>\n",
    "    <li><b>nacrtajte dendrogram</b> za dobiveno grupiranje (vidi <a href=\"https://scikit-learn.org/stable/auto_examples/cluster/plot_agglomerative_dendrogram.html\">poveznicu</a> za pomoć),</li>\n",
    "    <li>prema dendrogramu <b>odredite broj grupa.</b></li>\n",
    "</ol>\n",
    "<b>Odaberite jednu metodu povezivanja</b> koja Vam daje rezultate koje najlakše možete interpretirati.\n",
    "U obzir uzmite balansiranost veličina klastera.\n",
    "<b>Prikažite dendrogram</b> i <b>ispišite nazive kategorija</b> u pojedinoj grupi u konačnom rezultatu grupiranja."
   ]
  },
  {
   "cell_type": "code",
   "execution_count": null,
   "id": "84bb5b05",
   "metadata": {},
   "outputs": [],
   "source": []
  },
  {
   "cell_type": "markdown",
   "id": "792e7dd0",
   "metadata": {},
   "source": [
    "---\n",
    "\n",
    "## 2. Linearna diskriminantna analiza\n",
    "\n",
    "U ovom zadatku želimo vizualizirati klasifikaciju skladatelja s obzirom na to kojem stilskom razdoblju pripadaju, koristeći izvedene značajke temeljene na kategorijama skladbi koje su pisali.\n",
    "\n",
    "---\n",
    "\n",
    "<b>a)</b> Izračunajte i prikažite <b>kontingencijsku tablicu</b> $\\mathbf C$ između <b>skladatelja</b> i <b>kategorija.</b> Element kontingencijske tablice $C_{i, j}$ odgovara ukupnom broju skladbi u $j$-toj kategoriji koje je napisao $i$-ti skladatelj, kao i u <b>1. a)</b>. Zatim, standardizirajte retke kontingencijske tablice na način da od svakog retka oduzmete njegovu srednju vrijednost, te ga podijelite s njegovom standardnom devijacijom.\n",
    "<b>Prikažite ovako standardiziranu tablicu</b> te se uvjerite da su srednje vrijednosti svih redaka jednake 0 i njihove devijacije jednake 1."
   ]
  },
  {
   "cell_type": "code",
   "execution_count": null,
   "id": "fd116b3f",
   "metadata": {},
   "outputs": [],
   "source": []
  },
  {
   "cell_type": "markdown",
   "id": "dec0e8a2",
   "metadata": {},
   "source": [
    "---\n",
    "\n",
    "<b>b)</b> Provedite postupak višeklasne <b>linearne diskriminantne analize</b>.\n",
    "Klasificirajte skladatelje prema stilskom razdoblju kojem pripadaju (jedan skladatelj pripada samo jednom razdoblju), koristeći stupce prethodno standardizirane kontingencijske tablice iz 2. b) kao značajke.<br>\n",
    "<b>Prikažite graf raspršenja</b> koristeći prve dvije diskriminante, gdje jedna točka predstavlja jednog skladatelja.\n",
    "Različitom bojom prikažite različite klase. <br>\n",
    "<b>Ispišite</b> udjele objašnjene varijance za sve diskriminante. <br>\n",
    "Koje klase se najbolje razdvajaju od ostalih na dobivenom prikazu?"
   ]
  },
  {
   "cell_type": "code",
   "execution_count": null,
   "id": "06d26bc8",
   "metadata": {},
   "outputs": [],
   "source": []
  },
  {
   "cell_type": "markdown",
   "id": "267549bd",
   "metadata": {},
   "source": [
    "---\n",
    "\n",
    "<b>c)</b> Ponovite postupak višeklasne <b>linearne diskriminantne analize</b>, ovaj put nad reduciranim skupom podataka koji sadrži samo sljedeća stilska razdoblja:\n",
    "`\n",
    "[\"Baroque\", \"Classical\", \"Early Romantic\", \"Romantic\", \"Late Romantic\"]\n",
    "`. <br>\n",
    "<b>Prikažite graf raspršenja</b> koristeći prve dvije diskriminante, gdje jedna točka predstavlja jednog skladatelja.\n",
    "Različitom bojom prikažite različite klase. <br>\n",
    "<b>Ispišite</b> udjele objašnjene varijance za sve diskriminante. <br>\n",
    "Komentirajte kvalitetu dobivenog prikaza u odnosu na prethodni podzadatak."
   ]
  },
  {
   "cell_type": "code",
   "execution_count": null,
   "id": "278374d1",
   "metadata": {},
   "outputs": [],
   "source": []
  },
  {
   "cell_type": "markdown",
   "id": "2ecdbf68-e1d2-48e3-88d8-e438dc3fb7c8",
   "metadata": {},
   "source": [
    "## 3. Višedimenzionalno skaliranje\n",
    "\n",
    "U ovom zadatku želimo vizualizirati sličnosti između pojedinih stilskih razdoblja koristeći metričko i nemetričko skaliranje.\n",
    "\n",
    "---\n",
    "\n",
    "<b>a)</b>\n",
    "**Izračunajte i prikažite** kontingencijsku tablicu za varijable `category` i `epoch` (stilsko razdoblje).\n",
    "Neka retci sadrže kategorije, a stupci stilska razdoblja."
   ]
  },
  {
   "cell_type": "code",
   "execution_count": null,
   "id": "8140846f",
   "metadata": {},
   "outputs": [],
   "source": []
  },
  {
   "cell_type": "markdown",
   "id": "a57a419e-e242-416f-84d2-d092af1e0331",
   "metadata": {},
   "source": [
    "---\n",
    "\n",
    "<b> b)</b> **Izračunajte** udaljenosti među stilskim razdobljima koristeći *totalnu varijacijsku udaljenost*. \n",
    "Neka je $C$ kontingencijska matrica dimenzija $N \\times M$, te neka su kategorije skladbi raspoređene po retcima, a stilska razdoblja po stupcima. Totalna varijacijska daljenost između dva stilska razdboblja $i$ i $j$ računa se kao\n",
    "$$\n",
    "\\delta_{i,j} = \\frac{1}{2} \\sum_{k=1}^N \\left\\lvert \\frac{C_{k,i}}{S_i} - \\frac{C_{k,j}}{S_j} \\right\\rvert,\n",
    "$$\n",
    "gdje je $S_i = \\sum_{k=1}^N C_{k,i}$. **Izračunajte i prikažite** matricu udaljenosti $\\Delta$ čiji elementi su $\\Delta_{i, j} = \\delta_{i, j}$. <br>\n",
    "Provjerite koji parovi kategorija su najsličniji, a koji najrazličitiji."
   ]
  },
  {
   "cell_type": "code",
   "execution_count": null,
   "id": "89530465",
   "metadata": {},
   "outputs": [],
   "source": []
  },
  {
   "cell_type": "markdown",
   "id": "f6c81837",
   "metadata": {},
   "source": [
    "---\n",
    "\n",
    "<b>c)</b>\n",
    "Provedite postupak klasičnog, <b>metričnog višedimenzionalnog skaliranja,</b> koristeći prethodno dobivenu <b>matricu udaljenosti.</b><br>\n",
    "**Prikažite** kategorije na grafu raspršenja s **dvije dimenzije** i **označite** koju kategoriju pojedina točka predstavlja. \n",
    "<b>Ispišite</b> <i>stress</i> vrijedost.<br>\n",
    "Uočavate li smisleno grupiranje kategorija prema njihovom povijesnom slijedu?"
   ]
  },
  {
   "cell_type": "code",
   "execution_count": null,
   "id": "7fb525e5",
   "metadata": {},
   "outputs": [],
   "source": []
  },
  {
   "cell_type": "markdown",
   "id": "1a195119",
   "metadata": {},
   "source": [
    "--- \n",
    "\n",
    "<b>d)</b> Neka je $\\mathbf C$ kontingencijska tablica s početka ovog zadatka.\n",
    "Neka je mjera sličnosti između dvaju stilskih razdoblja $i$ i $j$ definirana na način:\n",
    "\\begin{equation}\n",
    "\\mathit{sim}\\left(i, j\\right) = \\sum_{k = 0}^N \\frac{\\min \\left\\{C_{k, i}, C_{k, j} \\right\\}}{\\max \\left\\{C_{k, i}, C_{k, j}\\right\\}}\n",
    "\\end{equation}\n",
    "<b>Izračunajte sličnosti</b> između svih parova stilskih razdoblja. Zatim, sami izvedite neku mjeru različitosti temeljem izračunate mjere sličnosti.\n",
    "Konačno, <b>izračunajte matricu različitosti</b> koja sadrži različitosti svih parova stilskih razdoblja.<br>\n",
    "Kako se rezultati razlikuju u odnosu na 3. b)?"
   ]
  },
  {
   "cell_type": "code",
   "execution_count": null,
   "id": "93d86973",
   "metadata": {},
   "outputs": [],
   "source": []
  },
  {
   "cell_type": "markdown",
   "id": "87d54a1b",
   "metadata": {},
   "source": [
    "---\n",
    "\n",
    "<b>e)</b>\n",
    "Provedite postupak <b>nemetričnog višedimenzionalnog skaliranja,</b> koristeći prethodno dobivenu <b>matricu različitosti.</b> <br>\n",
    "**Prikažite** kategorije na grafu raspršenja s **dvije dimenzije** i **označite** koju kategoriju pojedina točka predstavlja. \n",
    "<b>Ispišite</b> <i>stress</i> vrijedost.<br>\n",
    "Uočavate li smisleno grupiranje kategorija prema njihovom povijesnom slijedu?"
   ]
  },
  {
   "cell_type": "code",
   "execution_count": null,
   "id": "113b413e",
   "metadata": {},
   "outputs": [],
   "source": []
  },
  {
   "cell_type": "markdown",
   "id": "42b40297-2bf0-4e2e-89f3-9407d7a9eecb",
   "metadata": {},
   "source": [
    "---\n",
    "\n",
    "## 4. Analiza korespondencije\n",
    "\n",
    "<b>a) </b>\n",
    "**Kreirajte** novi podskup podataka tako da sadrži samo skladbe **prvih 5&ndash;10 skladatelja** po nekom kriteriju &mdash; proizvoljno odaberite kriterij po kojemu ćete ih poredati (npr. ukupan broj skladbi, ukupan broj glasova po svim skladbama, prosječan broj glasova po svim skladbama, ili samo odaberite 5&ndash;10 skladatelja po vlastitom izboru).\n",
    "Zatim **odredite** koje kategorije skladbi se najčešće pojavljuju u dobivenom podskupu, te unutar njega zadržite samo skladbe koje pripadaju otprlike **5&ndash;10 najčešćih kategorija**."
   ]
  },
  {
   "cell_type": "code",
   "execution_count": null,
   "id": "1fae6074",
   "metadata": {},
   "outputs": [],
   "source": []
  },
  {
   "cell_type": "markdown",
   "id": "e50604cd-5010-464e-b56e-30d271416081",
   "metadata": {},
   "source": [
    "---\n",
    "\n",
    "U nastavku vježbe koristite ovako generirani podskup podataka.\n",
    "\n",
    "<b>b)</b>**Izračunajte i prikažite** kontingencijsku tablicu između skladatelja i kategorije skladbi koje su napisali.\n"
   ]
  },
  {
   "cell_type": "code",
   "execution_count": null,
   "id": "2ea3b790",
   "metadata": {},
   "outputs": [],
   "source": []
  },
  {
   "cell_type": "markdown",
   "id": "32fe4304-4980-44aa-8d53-03ca4b182895",
   "metadata": {},
   "source": [
    "---\n",
    "\n",
    "<b>c)</b> **Prikažite** graf raspršenja analize korespondencije između varijabli `composer` i `category` koristeći prve dvije komponente. \n",
    "Jasno <b>označite</b> (bojom i oblikom markera, ili natpisima) kojeg skladatelja, odnosno kategoriju, predstavlja pojedina točka.\n",
    "<b>Ispišite</b> udjele objašnjene varijance za sve komponente, te ukupnu inerciju.\n",
    "Također, na grafu <b>označite ishodište</b> radi lakše interpretacije. <br>\n",
    "Obratite pozornost na objašnjenu varijancu temeljem prve dvije komponente. Na temelju dobivenog grafa i kontingencijske tablice iz prethodnog zadatka pokušajte odgovoriti na sljedeća pitanja:\n",
    "\n",
    "-   Koji skladatelji se najviše izdvajaju po pojedinoj kategoriji?\n",
    "-   Koji skladatelji su određenu kategoriju skladbi pisali znatno više ili manje u usporedbi s drugim skladateljima?\n",
    "-   Koji skladatelji su određenu kategoriju skladbi pisali znatno više ili manje u usporedbi s drugim kategorijama?\n",
    "-   Koji skladatelji su pisali prosječan broj skladbi u svim kategorijama?"
   ]
  },
  {
   "cell_type": "code",
   "execution_count": null,
   "id": "56d8d693",
   "metadata": {},
   "outputs": [],
   "source": []
  },
  {
   "cell_type": "markdown",
   "id": "d5b4cd80-ea22-4fc4-a695-f54f0b37ccc5",
   "metadata": {},
   "source": [
    "---\n",
    "\n",
    "<b>d)</b> <b>Provedite analizu korespondencije</b> između varijabli `country` i `epoch`.\n",
    "U obzir uzmite <b>reducirani skup podataka</b> koji sadrži samo sljedeće države: `[\"Germany\", \"Austria\", \"Italy\", \"France\", \"Hungary\", \"Russia\", \"United States\"]`.\n",
    "<b>Prikažite graf</b> kao i u prethodnom podzadatku, te <b>ispišite</b> udjele objašnjene varijance i ukupnu inerciju.\n",
    "Što možete zaključiti o odnosima država i stilskih razdoblja pomoću grafa?"
   ]
  },
  {
   "cell_type": "code",
   "execution_count": null,
   "id": "8a3693b4",
   "metadata": {},
   "outputs": [],
   "source": []
  }
 ],
 "metadata": {
  "kernelspec": {
   "display_name": "Python 3 (ipykernel)",
   "language": "python",
   "name": "python3"
  },
  "language_info": {
   "codemirror_mode": {
    "name": "ipython",
    "version": 3
   },
   "file_extension": ".py",
   "mimetype": "text/x-python",
   "name": "python",
   "nbconvert_exporter": "python",
   "pygments_lexer": "ipython3",
   "version": "3.11.3"
  }
 },
 "nbformat": 4,
 "nbformat_minor": 5
}
